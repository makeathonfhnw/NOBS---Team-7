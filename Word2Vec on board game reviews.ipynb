{
 "cells": [
  {
   "cell_type": "code",
   "execution_count": null,
   "metadata": {
    "pycharm": {
     "is_executing": true
    }
   },
   "outputs": [],
   "source": [
    "import gensim"
   ]
  },
  {
   "cell_type": "code",
   "execution_count": 2,
   "metadata": {},
   "outputs": [
    {
     "name": "stdout",
     "output_type": "stream",
     "text": [
      "['privacy', 'policy']\n"
     ]
    }
   ],
   "source": [
    "filename = \"privacyPolicy\"\n",
    "f=open(filename, \"r\", encoding=\"utf8\")\n",
    "\n",
    "def read_input(input_file):\n",
    "    for i, line in enumerate(input_file):\n",
    "        yield gensim.utils.simple_preprocess(line)\n",
    "        \n",
    "documents = list (read_input (f))\n",
    "f.close()\n",
    "print(documents[0])"
   ]
  },
  {
   "cell_type": "code",
   "execution_count": 3,
   "metadata": {},
   "outputs": [
    {
     "data": {
      "text/plain": "(1376946, 1684430)"
     },
     "execution_count": 3,
     "metadata": {},
     "output_type": "execute_result"
    }
   ],
   "source": [
    "model = gensim.models.Word2Vec (documents, size=200, window=10, min_count=1, workers=10)\n",
    "model.train(documents,total_examples=len(documents),epochs=10)"
   ]
  },
  {
   "cell_type": "code",
   "execution_count": 6,
   "metadata": {},
   "outputs": [
    {
     "data": {
      "text/plain": "[('websites', 0.7102923393249512),\n ('pages', 0.6926374435424805),\n ('bêta', 0.6871986389160156),\n ('clicked', 0.6858464479446411),\n ('visit', 0.668159008026123),\n ('site', 0.6657538414001465),\n ('advertisements', 0.6576341390609741),\n ('serve', 0.6505229473114014),\n ('applications', 0.6464155316352844),\n ('effectiveness', 0.6415594816207886),\n ('sites', 0.638394296169281),\n ('measure', 0.6377224922180176),\n ('apps', 0.6367613077163696),\n ('ad', 0.6334416270256042),\n ('native', 0.6324713230133057),\n ('interacting', 0.6316027641296387),\n ('spent', 0.6310720443725586),\n ('web', 0.6280733346939087),\n ('sogenanntes', 0.623340368270874),\n ('personalized', 0.6230950355529785)]"
     },
     "execution_count": 6,
     "metadata": {},
     "output_type": "execute_result"
    }
   ],
   "source": [
    "w1 = [\"website\"]\n",
    "model.wv.most_similar (positive=w1, topn=20)\n",
    "model.save(\"gensimModel\")"
   ]
  },
  {
   "cell_type": "code",
   "execution_count": 4,
   "metadata": {},
   "outputs": [],
   "source": []
  }
 ],
 "metadata": {
  "kernelspec": {
   "display_name": "Python 3",
   "language": "python",
   "name": "python3"
  },
  "language_info": {
   "codemirror_mode": {
    "name": "ipython",
    "version": 3
   },
   "file_extension": ".py",
   "mimetype": "text/x-python",
   "name": "python",
   "nbconvert_exporter": "python",
   "pygments_lexer": "ipython3",
   "version": "3.7.3"
  }
 },
 "nbformat": 4,
 "nbformat_minor": 2
}