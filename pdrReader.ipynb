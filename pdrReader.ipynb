{
 "cells": [
  {
   "cell_type": "code",
   "execution_count": 15,
   "metadata": {
    "collapsed": true
   },
   "outputs": [
    {
     "data": {
      "text/plain": "PyPDF4.pdf.PageObject"
     },
     "execution_count": 15,
     "metadata": {},
     "output_type": "execute_result"
    }
   ],
   "source": [
    "import PyPDF4\n",
    "import re\n",
    "reader = PyPDF4.PdfFileReader('general-terms-conditions-credit-prepaid-cards.pdf')\n",
    "for pagenum in range(reader.numPages):\n",
    "    page = reader.getPage(pagenum)\n",
    "    text = page.extractText()\n",
    "type(page)\n",
    "\n",
    "x = re.search(\"^The.*Spain$\", text)"
   ]
  },
  {
   "cell_type": "code",
   "execution_count": 16,
   "outputs": [],
   "source": [
    "myText = open('general-terms-conditions-credit-prepaid-cards.txt','w')\n",
    "myText.write(text)\n",
    "myText.close()\n",
    "\n",
    "\n"
   ],
   "metadata": {
    "collapsed": false,
    "pycharm": {
     "name": "#%%\n"
    }
   }
  }
 ],
 "metadata": {
  "kernelspec": {
   "display_name": "Python 3",
   "language": "python",
   "name": "python3"
  },
  "language_info": {
   "codemirror_mode": {
    "name": "ipython",
    "version": 2
   },
   "file_extension": ".py",
   "mimetype": "text/x-python",
   "name": "python",
   "nbconvert_exporter": "python",
   "pygments_lexer": "ipython2",
   "version": "2.7.6"
  }
 },
 "nbformat": 4,
 "nbformat_minor": 0
}